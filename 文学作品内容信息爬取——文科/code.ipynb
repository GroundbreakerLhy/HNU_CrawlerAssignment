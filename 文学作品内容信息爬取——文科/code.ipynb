{
 "cells": [
  {
   "cell_type": "markdown",
   "metadata": {},
   "source": [
    "# 代码来自Groundbreaker \n",
    "# 想联系我的话花点心思不难找到我的联系方式\n",
    "# 如果今年题目变了代码用不了了，可以在Github上找到我，我会尽快更新代码"
   ]
  },
  {
   "cell_type": "code",
   "execution_count": 1,
   "metadata": {},
   "outputs": [],
   "source": [
    "import requests\n",
    "from bs4 import BeautifulSoup\n",
    "headers = {\n",
    "    'User-Agent': 'Mozilla/5.0 (Windows NT 6.1; Win64; x64) AppleWebKit/537.36 (KHTML, like Gecko) Chrome/58.0.3029.110 Safari/537.3',\n",
    "}"
   ]
  },
  {
   "cell_type": "code",
   "execution_count": 2,
   "metadata": {},
   "outputs": [],
   "source": [
    "urls = []\n",
    "for i in range(1, 7):\n",
    "    urls.append(\"https://www.jjjjxsw.com/txt/xuanhuan/index_\" + str(i) + \".html\")"
   ]
  },
  {
   "cell_type": "code",
   "execution_count": 4,
   "metadata": {},
   "outputs": [],
   "source": [
    "with open(\"novels.txt\", 'w', encoding='utf-8') as f:\n",
    "    for url in urls:\n",
    "        request = requests.get(url, headers=headers)\n",
    "        html = request.text\n",
    "        soup = BeautifulSoup(html, 'html.parser')\n",
    "        titles = soup.find_all('span', class_='title')\n",
    "        infos = soup.find_all('div', style='padding:0 18px')\n",
    "        authors, descriptions, if_ended, sizes = [], [], [], []\n",
    "        for i in range(0, len(infos), 2):\n",
    "            descriptions.append(infos[i].text)\n",
    "        for i in range(1, len(infos), 2):\n",
    "            text = infos[i].text.strip().split('\\n')\n",
    "            if '作者' in text[0]:\n",
    "                authors.append(text[0][text[0].index('：')+1:])\n",
    "            if '完结' in text[1]:\n",
    "                if_ended.append('已完结')\n",
    "            else:\n",
    "                if_ended.append('连载中')\n",
    "            if '大小' in text[2]:\n",
    "                sizes.append(text[2][text[2].index('：')+1:])\n",
    "        upload_dates = soup.find_all('span', class_='oldDate')\n",
    "        \n",
    "        for i in range(len(titles)):\n",
    "            title, author, description, ended, size, date = titles[i].get_text(), authors[i], descriptions[i], if_ended[i], sizes[i].strip(), upload_dates[i].text\n",
    "            write_in = '《' + title + '》\\n作者：' + author + '\\n书籍简介：' + description + '\\n' + ended + '\\t书籍文件大小：' + size + '\\n' + date + '\\n\\n'\n",
    "            f.write(write_in)"
   ]
  }
 ],
 "metadata": {
  "kernelspec": {
   "display_name": "Python 3",
   "language": "python",
   "name": "python3"
  },
  "language_info": {
   "codemirror_mode": {
    "name": "ipython",
    "version": 3
   },
   "file_extension": ".py",
   "mimetype": "text/x-python",
   "name": "python",
   "nbconvert_exporter": "python",
   "pygments_lexer": "ipython3",
   "version": "3.10.14"
  }
 },
 "nbformat": 4,
 "nbformat_minor": 2
}
