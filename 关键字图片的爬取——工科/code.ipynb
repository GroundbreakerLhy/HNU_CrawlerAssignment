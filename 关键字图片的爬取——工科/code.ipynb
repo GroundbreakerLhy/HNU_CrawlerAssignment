{
 "cells": [
  {
   "cell_type": "markdown",
   "metadata": {},
   "source": [
    "# 代码来自Groundbreaker \n",
    "# 想联系我的话花点心思不难找到我的联系方式\n",
    "# 如果今年题目变了代码用不了了，可以在Github上找到我，我会尽快更新代码"
   ]
  },
  {
   "cell_type": "code",
   "execution_count": 1,
   "metadata": {},
   "outputs": [],
   "source": [
    "import re\n",
    "import requests\n",
    "import os\n",
    "import time"
   ]
  },
  {
   "cell_type": "code",
   "execution_count": 2,
   "metadata": {},
   "outputs": [],
   "source": [
    "header = {\n",
    "    'User-Agent': 'Mozilla/5.0 (Windows NT 10.0; Win64; x64) AppleWebKit/537.36 (KHTML, like Gecko) Chrome/93.0.4577.63 Safari/537.36',\n",
    "    'Cookie': '',\n",
    "    'Accept': 'image/avif,image/webp,image/apng,image/svg+xml,image/*,*/*;q=0.8',\n",
    "    'Accept-Encoding': 'gzip, deflate, br',\n",
    "    'Accept-Language': 'zh-CN,zh;q=0.9'\n",
    "}"
   ]
  },
  {
   "cell_type": "code",
   "execution_count": 3,
   "metadata": {},
   "outputs": [],
   "source": [
    "\n",
    "url = 'https://image.baidu.com/search/index?tn=baiduimage&ipn=r&ct=201326592&cl=2&lm=-1&st=-1&fm=index&fr=&hs=0&xthttps=111110&sf=1&fmq=&pv=&ic=0&nc=1&z=&se=1&showtab=0&fb=0&width=&height=&face=0&istype=2&ie=utf-8&word=%E5%B7%A5%E7%A8%8B%E5%B8%88&oq=%E5%B7%A5%E7%A8%8B%E5%B8%88&rsp=-1'\n",
    "\n",
    "html = requests.get(url, headers=header)\n",
    "html.encoding = 'utf8'\n",
    "html = html.text\n",
    "\n",
    "# 获取当前工作目录\n",
    "scriptDir = os.getcwd()\n",
    "imgsPath = os.path.join(scriptDir, 'Img')\n",
    "\n",
    "# 如果路径不存在则创建\n",
    "if not os.path.exists(imgsPath):\n",
    "    os.mkdir(imgsPath)\n",
    "\n",
    "res = re.findall('\"objURL\":\"(.*?)\"', html)\n"
   ]
  },
  {
   "cell_type": "code",
   "execution_count": 4,
   "metadata": {},
   "outputs": [
    {
     "name": "stdout",
     "output_type": "stream",
     "text": [
      "下载完成。\n"
     ]
    }
   ],
   "source": [
    "num = 0\n",
    "import tqdm\n",
    "for imgUrl in tqdm.tqdm(res):\n",
    "    num += 1\n",
    "    try:\n",
    "        imgResponse = requests.get(imgUrl, headers=header)\n",
    "        imgResponse.raise_for_status()\n",
    "    except requests.exceptions.RequestException as e:\n",
    "        continue\n",
    "\n",
    "    imgFileName = os.path.join(imgsPath, f'img_{num}.jpg')\n",
    "\n",
    "    with open(imgFileName, 'wb') as imgFile:\n",
    "        imgFile.write(imgResponse.content)\n",
    "\n",
    "    time.sleep(1)\n",
    "\n",
    "print(\"下载完成。\")\n"
   ]
  }
 ],
 "metadata": {
  "kernelspec": {
   "display_name": "Python 3",
   "language": "python",
   "name": "python3"
  },
  "language_info": {
   "codemirror_mode": {
    "name": "ipython",
    "version": 3
   },
   "file_extension": ".py",
   "mimetype": "text/x-python",
   "name": "python",
   "nbconvert_exporter": "python",
   "pygments_lexer": "ipython3",
   "version": "3.12.0"
  }
 },
 "nbformat": 4,
 "nbformat_minor": 2
}
