{
 "cells": [
  {
   "cell_type": "markdown",
   "metadata": {},
   "source": [
    "# 代码来自Groundbreaker \n",
    "# 想联系我的话花点心思不难找到我的联系方式\n",
    "# 如果今年题目变了代码用不了了，可以在Github上找到我，我会尽快更新代码"
   ]
  },
  {
   "cell_type": "code",
   "execution_count": null,
   "metadata": {},
   "outputs": [],
   "source": [
    "import pandas as pd\n",
    "import seaborn as sns\n",
    "from matplotlib import pyplot as plt\n",
    "import re\n",
    "\n",
    "plt.rcParams[\"font.sans-serif\"] = [\"SimHei\"]\n",
    "plt.rcParams[\"axes.unicode_minus\"] = False"
   ]
  },
  {
   "cell_type": "code",
   "execution_count": null,
   "metadata": {},
   "outputs": [],
   "source": [
    "s = open(\"advertise.txt\").read()\n",
    "s = re.sub(r\"\\n第\\d+页\\n\", \"\\n\", s)\n",
    "s = re.sub(r\"\\n\\n\", \"\\n\", s)\n",
    "print(s)"
   ]
  },
  {
   "cell_type": "code",
   "execution_count": null,
   "metadata": {},
   "outputs": [],
   "source": [
    "lines = s.strip().split(\"\\n\")\n",
    "df = pd.DataFrame(\n",
    "    [item.split(\"|\") for item in lines],\n",
    "    columns=[\"Position\", \"Company\", \"Salary\", \"Location\", \"Date\"],\n",
    ")\n",
    "df"
   ]
  },
  {
   "cell_type": "code",
   "execution_count": null,
   "metadata": {},
   "outputs": [],
   "source": [
    "def salary_medium(salary_str):\n",
    "    try:\n",
    "        if \"(\" in salary_str:\n",
    "            salary_str = salary_str.split(\")\")[1]\n",
    "        min_salary, max_salary = map(\n",
    "            lambda x: float(x.replace(\"K\", \"\")), salary_str.split(\"-\")\n",
    "        )\n",
    "        mid_salary = (min_salary + max_salary) / 2\n",
    "        return mid_salary\n",
    "    except Exception:\n",
    "        return pd.NA\n",
    "\n",
    "df[\"Salary mid\"] = df[\"Salary\"].apply(salary_medium)"
   ]
  },
  {
   "cell_type": "code",
   "execution_count": null,
   "metadata": {},
   "outputs": [],
   "source": [
    "def extract_city(location):\n",
    "    # 匹配 \"中山市/阜沙镇\" 这种格式\n",
    "    match = re.search(r\"([^/]+市)/\", location)\n",
    "    if match:\n",
    "        return match.group(1)\n",
    "    # 匹配 \"广东/中山市\" 这种格式\n",
    "    match = re.search(r\"/([^/]+市)\", location)\n",
    "    if match:\n",
    "        return match.group(1)\n",
    "    return '其他'\n",
    "\n",
    "\n",
    "df[\"City\"] = df[\"Location\"].apply(\n",
    "    extract_city\n",
    ")"
   ]
  },
  {
   "cell_type": "code",
   "execution_count": null,
   "metadata": {},
   "outputs": [],
   "source": [
    "plt.figure(dpi=150)\n",
    "plt.title(\"各城市平均薪资\")\n",
    "df.groupby(\"City\")[\"Salary mid\"].mean().sort_values(ascending=False).plot.bar()\n",
    "plt.ylabel(\"平均薪资\")\n",
    "plt.xlabel(\"城市\")\n",
    "plt.tight_layout()\n",
    "plt.savefig(\"各城市平均薪资.png\")"
   ]
  },
  {
   "cell_type": "code",
   "execution_count": null,
   "metadata": {},
   "outputs": [],
   "source": [
    "plt.figure(dpi=150, figsize=(15, 15))\n",
    "df[\"City\"].value_counts().plot.pie(\n",
    "    autopct=\"%1.1f%%\", startangle=120, wedgeprops=dict(width=0.3)\n",
    ")\n",
    "plt.title(\"招聘地域分布\")\n",
    "plt.ylabel('')\n",
    "plt.tight_layout()\n",
    "plt.savefig(\"招聘地域分布.png\")"
   ]
  },
  {
   "cell_type": "code",
   "execution_count": null,
   "metadata": {},
   "outputs": [],
   "source": [
    "plt.figure(dpi=150)\n",
    "df[\"Company\"].value_counts().value_counts().sort_values(ascending=False).plot(kind='line')\n",
    "plt.title(\"企业岗位数\")\n",
    "plt.xlabel(\"岗位个数\")\n",
    "plt.ylabel(\"企业数\")\n",
    "plt.tight_layout()\n",
    "plt.savefig(\"企业岗位数.png\")"
   ]
  },
  {
   "cell_type": "code",
   "execution_count": null,
   "metadata": {},
   "outputs": [],
   "source": [
    "plt.figure(dpi=150)\n",
    "df[\"Position\"].value_counts().value_counts().sort_values(ascending=False).plot.bar()\n",
    "plt.title('单个职业岗位数')\n",
    "plt.xlabel('岗位数')\n",
    "plt.ylabel('职业数')\n",
    "plt.tight_layout()\n",
    "plt.savefig(\"单个职业岗位数.png\")"
   ]
  },
  {
   "cell_type": "code",
   "execution_count": null,
   "metadata": {},
   "outputs": [],
   "source": [
    "df[\"Salary mid\"] = df[\"Salary mid\"].fillna(0)\n",
    "sns.histplot(df[\"Salary mid\"])\n",
    "plt.title(\"薪资分布\")\n",
    "plt.xlabel(\"薪资（千元）\")\n",
    "plt.ylabel(\"个/千元区间\")\n",
    "plt.tight_layout()\n",
    "plt.savefig(\"薪资分布.png\")\n"
   ]
  }
 ],
 "metadata": {
  "kernelspec": {
   "display_name": "math_modeling",
   "language": "python",
   "name": "python3"
  },
  "language_info": {
   "codemirror_mode": {
    "name": "ipython",
    "version": 3
   },
   "file_extension": ".py",
   "mimetype": "text/x-python",
   "name": "python",
   "nbconvert_exporter": "python",
   "pygments_lexer": "ipython3",
   "version": "3.10.14"
  }
 },
 "nbformat": 4,
 "nbformat_minor": 2
}
